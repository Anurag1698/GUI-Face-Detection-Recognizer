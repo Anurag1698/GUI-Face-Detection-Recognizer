{
 "cells": [
  {
   "cell_type": "code",
   "execution_count": 4,
   "id": "d43d7c1b-a38c-4d60-aff8-e67e78dc2f96",
   "metadata": {},
   "outputs": [],
   "source": [
    "import mysql.connector"
   ]
  },
  {
   "cell_type": "code",
   "execution_count": 2,
   "id": "ebf13e5f-4fc7-4141-ae57-ad6f410afda9",
   "metadata": {},
   "outputs": [
    {
     "name": "stdout",
     "output_type": "stream",
     "text": [
      "<mysql.connector.connection.MySQLConnection object at 0x000001EB8992B790>\n"
     ]
    }
   ],
   "source": [
    "mydb = mysql.connector.connect(\n",
    "    host = \"localhost\", \n",
    "    user = \"root\",\n",
    "    password = \"\"\n",
    ")\n",
    "print(mydb)"
   ]
  },
  {
   "cell_type": "code",
   "execution_count": 3,
   "id": "7cfd2102-b945-4fc5-81c7-447a0f37dc6b",
   "metadata": {},
   "outputs": [],
   "source": [
    "mycursor = mydb.cursor()\n",
    "mycursor.execute(\"create database authorized_user\")"
   ]
  },
  {
   "cell_type": "code",
   "execution_count": 4,
   "id": "a8322ba7-c5bd-48c2-b7be-273a8a490d97",
   "metadata": {},
   "outputs": [
    {
     "name": "stdout",
     "output_type": "stream",
     "text": [
      "('authorized_user',)\n",
      "('information_schema',)\n",
      "('mysql',)\n",
      "('performance_schema',)\n",
      "('phpmyadmin',)\n",
      "('students',)\n",
      "('test',)\n"
     ]
    }
   ],
   "source": [
    "mycursor.execute(\"show databases\")\n",
    "for x in mycursor:\n",
    "    print(x)"
   ]
  },
  {
   "cell_type": "code",
   "execution_count": 5,
   "id": "a3fbbecb-b368-4981-8c49-635b450bd50f",
   "metadata": {},
   "outputs": [],
   "source": [
    "mydb = mysql.connector.connect(\n",
    "    host = \"localhost\", \n",
    "    user = \"root\",\n",
    "    password = \"\",\n",
    "    database = \"authorized_user\"\n",
    ")\n",
    "\n",
    "mycursor = mydb.cursor()\n",
    "mycursor.execute(\"CREATE TABLE authorized_user_table(id INT PRIMARY KEY AUTO_INCREMENT, name VARCHAR(50), age INT, address varchar(100))\")\n"
   ]
  },
  {
   "cell_type": "code",
   "execution_count": 18,
   "id": "6a08e126-30ed-4f9d-88e1-a15569ae3dc6",
   "metadata": {},
   "outputs": [
    {
     "name": "stdout",
     "output_type": "stream",
     "text": [
      "1 record inserted\n"
     ]
    }
   ],
   "source": [
    "sql=\"INSERT INTO stu_table(id, name, age) values (%s,%s,%s)\"\n",
    "val=(1, \"Anurag\", 20)\n",
    "mycursor.execute(sql, val)\n",
    "mydb.commit()\n",
    "print(mycursor.rowcount, \"record inserted\")"
   ]
  },
  {
   "cell_type": "code",
   "execution_count": 22,
   "id": "ed42c1d1-3abc-4e3e-b8ee-c63199a14c83",
   "metadata": {},
   "outputs": [
    {
     "name": "stdout",
     "output_type": "stream",
     "text": [
      "2 record inserted\n"
     ]
    }
   ],
   "source": [
    "sql=\"INSERT INTO stu_table(id, name, age) values (%s,%s,%s)\"\n",
    "val={(2, \"Aditya\", 20),\n",
    "    (3, \"Vibhor\", 20)}\n",
    "mycursor.executemany(sql, val)\n",
    "mydb.commit()\n",
    "print(mycursor.rowcount, \"record inserted\")"
   ]
  },
  {
   "cell_type": "code",
   "execution_count": 24,
   "id": "65324de8-02d2-43f8-8986-f776c6bb8dda",
   "metadata": {},
   "outputs": [
    {
     "name": "stdout",
     "output_type": "stream",
     "text": [
      "(1, 'Anurag', 20)\n",
      "(2, 'Aditya', 20)\n",
      "(3, 'Vibhor', 20)\n"
     ]
    }
   ],
   "source": [
    "mycursor.execute(\"select * from stu_table\")\n",
    "myresult=mycursor.fetchall()\n",
    "for x in myresult:\n",
    "    print(x)"
   ]
  },
  {
   "cell_type": "code",
   "execution_count": 9,
   "id": "7b95d595-a68f-48fb-81a6-a73a145fe3b8",
   "metadata": {},
   "outputs": [
    {
     "name": "stdout",
     "output_type": "stream",
     "text": [
      "('authorized_user_table',)\n"
     ]
    }
   ],
   "source": [
    "mycursor.execute(\"show tables\")\n",
    "for x in mycursor:\n",
    "    print(x)"
   ]
  },
  {
   "cell_type": "code",
   "execution_count": 2,
   "id": "3509ec6d-d5e7-4502-a055-22f4103be31c",
   "metadata": {},
   "outputs": [
    {
     "ename": "SyntaxError",
     "evalue": "invalid syntax (268522492.py, line 1)",
     "output_type": "error",
     "traceback": [
      "\u001b[1;36m  Cell \u001b[1;32mIn[2], line 1\u001b[1;36m\u001b[0m\n\u001b[1;33m    drop database authorized_user\u001b[0m\n\u001b[1;37m         ^\u001b[0m\n\u001b[1;31mSyntaxError\u001b[0m\u001b[1;31m:\u001b[0m invalid syntax\n"
     ]
    }
   ],
   "source": [
    "drop database authorized_user"
   ]
  },
  {
   "cell_type": "code",
   "execution_count": null,
   "id": "dae960f9-096f-42c3-bbff-90b332d4590e",
   "metadata": {},
   "outputs": [],
   "source": []
  }
 ],
 "metadata": {
  "kernelspec": {
   "display_name": "Python 3 (ipykernel)",
   "language": "python",
   "name": "python3"
  },
  "language_info": {
   "codemirror_mode": {
    "name": "ipython",
    "version": 3
   },
   "file_extension": ".py",
   "mimetype": "text/x-python",
   "name": "python",
   "nbconvert_exporter": "python",
   "pygments_lexer": "ipython3",
   "version": "3.11.4"
  }
 },
 "nbformat": 4,
 "nbformat_minor": 5
}
